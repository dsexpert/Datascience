{
 "cells": [
  {
   "cell_type": "code",
   "execution_count": 20,
   "id": "reserved-cannon",
   "metadata": {},
   "outputs": [
    {
     "name": "stderr",
     "output_type": "stream",
     "text": [
      "Matplotlib is building the font cache; this may take a moment.\n"
     ]
    }
   ],
   "source": [
    "import torch\n",
    "import torch.nn as nn\n",
    "import torch.optim as optim\n",
    "from torch.optim import lr_scheduler\n",
    "import torchvision\n",
    "import numpy as np\n",
    "from torchvision import datasets,models,transforms\n",
    "import matplotlib.pyplot as plt\n",
    "import time\n",
    "import os\n",
    "import copy\n",
    "\n"
   ]
  },
  {
   "cell_type": "code",
   "execution_count": 4,
   "id": "private-purchase",
   "metadata": {},
   "outputs": [],
   "source": [
    "device =torch.device('cuda' if torch.cuda.is_available() else 'cpu')"
   ]
  },
  {
   "cell_type": "code",
   "execution_count": 10,
   "id": "southwest-smith",
   "metadata": {},
   "outputs": [],
   "source": [
    "mean=np.array([0.485,.425,.435])\n",
    "\n",
    "std=np.array([0.229,0.245,0.225])\n"
   ]
  },
  {
   "cell_type": "code",
   "execution_count": 13,
   "id": "abandoned-iceland",
   "metadata": {},
   "outputs": [],
   "source": [
    "data_transforms={'train':transforms.Compose([transforms.RandomResizedCrop(224),transforms.RandomHorizontalFlip(),\n",
    "                                            transforms.ToTensor(),transforms.Normalize(mean,std)]),\n",
    "                'val':transforms.Compose([transforms.Resize(256),transforms.CenterCrop(224),\n",
    "                                            transforms.ToTensor(),transforms.Normalize(mean,std)])}"
   ]
  },
  {
   "cell_type": "code",
   "execution_count": 24,
   "id": "caroline-convenience",
   "metadata": {},
   "outputs": [],
   "source": [
    "data_dir='/home/umanagendramalla/Downloads/hymenoptera_data'"
   ]
  },
  {
   "cell_type": "code",
   "execution_count": 15,
   "id": "radio-genre",
   "metadata": {},
   "outputs": [],
   "source": [
    "sets=['train','val']"
   ]
  },
  {
   "cell_type": "code",
   "execution_count": 25,
   "id": "quality-solomon",
   "metadata": {},
   "outputs": [],
   "source": [
    "image_datasets={x:datasets.ImageFolder(os.path.join(data_dir,x),data_transforms[x]) for x in ['train','val']}"
   ]
  },
  {
   "cell_type": "code",
   "execution_count": 39,
   "id": "electoral-cathedral",
   "metadata": {},
   "outputs": [],
   "source": [
    "dataloaders={x:torch.utils.data.DataLoader(image_datasets[x],batch_size=4,shuffle=True,num_workers=0) for x in ['train','val']}"
   ]
  },
  {
   "cell_type": "code",
   "execution_count": 41,
   "id": "nominated-florida",
   "metadata": {},
   "outputs": [],
   "source": [
    "dataset_sizes={x:len(data_loaders[x]) for x in ['train','val']}\n",
    "class_names=image_datasets['train'].classes"
   ]
  },
  {
   "cell_type": "code",
   "execution_count": 28,
   "id": "recovered-wright",
   "metadata": {},
   "outputs": [
    {
     "name": "stdout",
     "output_type": "stream",
     "text": [
      "['ants', 'bees']\n"
     ]
    }
   ],
   "source": [
    "print(class_names)"
   ]
  },
  {
   "cell_type": "code",
   "execution_count": 44,
   "id": "intended-afghanistan",
   "metadata": {},
   "outputs": [],
   "source": [
    "def train_model(model,criterion,optimizer,scheduler,num_epochs=25):\n",
    "    since=time.time()\n",
    "    best_model_weights=copy.deepcopy(model.state_dict())\n",
    "    best_acc=0.0\n",
    "    for epoch in range(num_epochs):\n",
    "        print(f'epoch{epoch}/{num_epochs-1}')\n",
    "        print('-'*10)\n",
    "        for phase in ['train','val']:\n",
    "            if(phase=='train'):\n",
    "                model.train()\n",
    "            else:\n",
    "                model.eval()\n",
    "            running_loss=0.0\n",
    "            running_corrects=0.0\n",
    "            for inputs,labels in dataloaders[phase]:\n",
    "                inputs=inputs.to(device)\n",
    "                labels=labels.to(device)\n",
    "                with torch.set_grad_enabled(phase=='train'):\n",
    "                    outputs=model(inputs)\n",
    "                    _,preds=torch.max(outputs,1)\n",
    "                    loss=criterion(outputs,labels)\n",
    "                    if(phase=='train'):\n",
    "                        optimizer.zero_grad()\n",
    "                        loss.backward()\n",
    "                        optimizer.step()    \n",
    "                running_loss+=loss.item()*inputs.size(0)\n",
    "                running_corrects+=torch.sum(preds==labels.data)\n",
    "            if(phase=='train'):\n",
    "                scheduler.step()\n",
    "            epoch_loss=running_loss/dataset_sizes[phase]\n",
    "            epoch_acc=running_corrects.double()/dataset_sizes[phase]\n",
    "            print('{} Loss: {:.4f} Acc: {:.4f}'.format(\n",
    "                phase, epoch_loss, epoch_acc))\n",
    "\n",
    "            # deep copy the model\n",
    "            if phase == 'val' and epoch_acc > best_acc:\n",
    "                best_acc = epoch_acc\n",
    "                best_model_wts = copy.deepcopy(model.state_dict())\n",
    "\n",
    "        print()\n",
    "\n",
    "    time_elapsed = time.time() - since\n",
    "    print('Training complete in {:.0f}m {:.0f}s'.format(\n",
    "        time_elapsed // 60, time_elapsed % 60))\n",
    "    print('Best val Acc: {:4f}'.format(best_acc))\n",
    "\n",
    "    # load best model weights\n",
    "    model.load_state_dict(best_model_wts)\n",
    "    return model\n",
    "                "
   ]
  },
  {
   "cell_type": "code",
   "execution_count": 31,
   "id": "coordinate-issue",
   "metadata": {},
   "outputs": [
    {
     "name": "stderr",
     "output_type": "stream",
     "text": [
      "Downloading: \"https://download.pytorch.org/models/resnet18-5c106cde.pth\" to /home/umanagendramalla/.cache/torch/hub/checkpoints/resnet18-5c106cde.pth\n",
      "100.0%\n"
     ]
    }
   ],
   "source": [
    "model=models.resnet18(pretrained=True)"
   ]
  },
  {
   "cell_type": "code",
   "execution_count": 34,
   "id": "complex-screening",
   "metadata": {},
   "outputs": [],
   "source": [
    "num_ftrs = model.fc.in_features\n",
    "model.fc = nn.Linear(num_ftrs, 2)\n",
    "model = model.to(device)\n"
   ]
  },
  {
   "cell_type": "code",
   "execution_count": 35,
   "id": "respiratory-groove",
   "metadata": {},
   "outputs": [],
   "source": [
    "criterion = nn.CrossEntropyLoss()\n"
   ]
  },
  {
   "cell_type": "code",
   "execution_count": 36,
   "id": "freelance-intent",
   "metadata": {},
   "outputs": [],
   "source": [
    "optimizer = optim.SGD(model.parameters(), lr=0.001)\n"
   ]
  },
  {
   "cell_type": "code",
   "execution_count": 37,
   "id": "tamil-complex",
   "metadata": {},
   "outputs": [],
   "source": [
    "step_lr_scheduler = lr_scheduler.StepLR(optimizer, step_size=7, gamma=0.1)\n"
   ]
  },
  {
   "cell_type": "code",
   "execution_count": 46,
   "id": "advance-drove",
   "metadata": {},
   "outputs": [
    {
     "name": "stdout",
     "output_type": "stream",
     "text": [
      "epoch0/1\n",
      "----------\n",
      "train Loss: 1.4613 Acc: 3.3770\n",
      "val Loss: 0.7892 Acc: 3.7436\n",
      "\n",
      "epoch1/1\n",
      "----------\n",
      "train Loss: 1.5085 Acc: 3.2295\n",
      "val Loss: 0.7669 Acc: 3.7436\n",
      "\n",
      "Training complete in 5m 3s\n",
      "Best val Acc: 3.743590\n"
     ]
    }
   ],
   "source": [
    "model = train_model(model, criterion, optimizer, step_lr_scheduler, num_epochs=2)\n"
   ]
  },
  {
   "cell_type": "code",
   "execution_count": 47,
   "id": "continent-insurance",
   "metadata": {},
   "outputs": [
    {
     "name": "stdout",
     "output_type": "stream",
     "text": [
      "epoch0/1\n",
      "----------\n",
      "train Loss: 2.6431 Acc: 2.2951\n",
      "val Loss: 2.0523 Acc: 2.8462\n",
      "\n",
      "epoch1/1\n",
      "----------\n",
      "train Loss: 2.1999 Acc: 2.9344\n",
      "val Loss: 1.4004 Acc: 3.5641\n",
      "\n",
      "Training complete in 1m 38s\n",
      "Best val Acc: 3.564103\n"
     ]
    }
   ],
   "source": [
    "models=models.resnet18(pretrained=True)\n",
    "for param in model.parameters():\n",
    "    param.requires_grad=False\n",
    "num_ftrs = model.fc.in_features\n",
    "model.fc = nn.Linear(num_ftrs, 2)\n",
    "model = model.to(device)\n",
    "criterion = nn.CrossEntropyLoss()\n",
    "optimizer = optim.SGD(model.parameters(), lr=0.001)\n",
    "step_lr_scheduler = lr_scheduler.StepLR(optimizer, step_size=7, gamma=0.1)\n",
    "model = train_model(model, criterion, optimizer, step_lr_scheduler, num_epochs=2)\n",
    "\n"
   ]
  }
 ],
 "metadata": {
  "kernelspec": {
   "display_name": "pytorch",
   "language": "python",
   "name": "pytorch"
  },
  "language_info": {
   "codemirror_mode": {
    "name": "ipython",
    "version": 3
   },
   "file_extension": ".py",
   "mimetype": "text/x-python",
   "name": "python",
   "nbconvert_exporter": "python",
   "pygments_lexer": "ipython3",
   "version": "3.6.12"
  }
 },
 "nbformat": 4,
 "nbformat_minor": 5
}
